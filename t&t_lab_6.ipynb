{
  "nbformat": 4,
  "nbformat_minor": 0,
  "metadata": {
    "colab": {
      "name": "t&t lab_6.ipynb",
      "provenance": [],
      "authorship_tag": "ABX9TyNENv7mpMIizkXbuP8NxmTY",
      "include_colab_link": true
    },
    "kernelspec": {
      "name": "python3",
      "display_name": "Python 3"
    },
    "language_info": {
      "name": "python"
    }
  },
  "cells": [
    {
      "cell_type": "markdown",
      "metadata": {
        "id": "view-in-github",
        "colab_type": "text"
      },
      "source": [
        "<a href=\"https://colab.research.google.com/github/Ryukijano/T-T-lab-6th-sem/blob/main/t%26t_lab_6.ipynb\" target=\"_parent\"><img src=\"https://colab.research.google.com/assets/colab-badge.svg\" alt=\"Open In Colab\"/></a>"
      ]
    },
    {
      "cell_type": "markdown",
      "source": [
        "GYANATEET DUTTA\n",
        "1930198\n",
        "ECS-2\n",
        "T&T Lab-6 (Tuples,Sets and Dictionaries)"
      ],
      "metadata": {
        "id": "nk-hvKgJU-sm"
      }
    },
    {
      "cell_type": "code",
      "execution_count": null,
      "metadata": {
        "colab": {
          "base_uri": "https://localhost:8080/"
        },
        "id": "dt_ANeXhM_yO",
        "outputId": "050dcf46-3cad-4a64-e68a-c6c8c37e985b"
      },
      "outputs": [
        {
          "output_type": "stream",
          "name": "stdout",
          "text": [
            "(7, 5, 3, 7, 5, 3)\n"
          ]
        }
      ],
      "source": [
        "#1.create a tuple with 10 elements and display the elements in the reverse order that are prime.\n",
        "my_tuple = (1,3,5,7,9,1,3,5,7,9)\n",
        "#find prime numbers in the tuple\n",
        "new_tuple = ()\n",
        "for i in my_tuple:\n",
        "    if i > 1:\n",
        "        for j in range(2,i):\n",
        "            if i % j == 0:\n",
        "                break\n",
        "        else:\n",
        "            new_tuple += (i,)\n",
        "#reverse the tuple\n",
        "new_tuple = new_tuple[::-1]\n",
        "#print the tuple\n",
        "print(new_tuple)\n",
        "\n"
      ]
    },
    {
      "cell_type": "code",
      "source": [
        "#2.perform the following operations on the tuple\n",
        "#max_value\n",
        "#min value\n",
        "#size of the tuple(length)\n",
        "my_tuple = (1,3,5,7,9,1,3,5,7,9)\n",
        "max_value = max(my_tuple)\n",
        "print(\"the max value is \",max_value)\n",
        "min_value = min(my_tuple)\n",
        "print(\"the min value is \",min_value)\n",
        "#print size of the tuple\n",
        "size=len(my_tuple)\n",
        "print(\"the size of the tuple is \",size)"
      ],
      "metadata": {
        "colab": {
          "base_uri": "https://localhost:8080/"
        },
        "id": "2VF9mDc_VTj8",
        "outputId": "b7d84b7d-2da5-4df1-a17d-cf9afb3d7626"
      },
      "execution_count": null,
      "outputs": [
        {
          "output_type": "stream",
          "name": "stdout",
          "text": [
            "the max value is  9\n",
            "the min value is  1\n",
            "the size of the tuple is  10\n"
          ]
        }
      ]
    },
    {
      "cell_type": "code",
      "source": [
        "#3.Create a tuple with n elements and separate even values and odd values into 2 different tuples\n",
        "my_tuple=(1,2,3,4,5,6,7,8,9,10)\n",
        "even_tuple=()\n",
        "for i in my_tuple:\n",
        "    if i%2==0:\n",
        "        even_tuple=even_tuple+(i,)\n",
        "odd_tuple=()\n",
        "for i in my_tuple:\n",
        "    if i%2!=0:\n",
        "        odd_tuple=odd_tuple+(i,)\n",
        "print(\"the even tuple is \",even_tuple)\n",
        "print(\"the odd tuple is \",odd_tuple)"
      ],
      "metadata": {
        "id": "N8ABX1nQe3sl",
        "colab": {
          "base_uri": "https://localhost:8080/"
        },
        "outputId": "41d66540-9fb2-43ba-e159-b8583987458e"
      },
      "execution_count": null,
      "outputs": [
        {
          "output_type": "stream",
          "name": "stdout",
          "text": [
            "the even tuple is  (2, 4, 6, 8, 10)\n",
            "the odd tuple is  (1, 3, 5, 7, 9)\n"
          ]
        }
      ]
    },
    {
      "cell_type": "code",
      "source": [
        "#4.Implement any 5 tuple functions with suitable examples.\n",
        "tuple1=('a','b','c','d','e')\n",
        "tuple2=('f','g','h','i','j')\n",
        "print(len(tuple1))\n",
        "max(tuple1)\n",
        "min(tuple2)\n",
        "tuple(range(1,10))\n"
      ],
      "metadata": {
        "colab": {
          "base_uri": "https://localhost:8080/"
        },
        "id": "AJ1iEn7OhlxW",
        "outputId": "d7018d39-059e-4d52-af38-b47573bab967"
      },
      "execution_count": null,
      "outputs": [
        {
          "output_type": "stream",
          "name": "stdout",
          "text": [
            "5\n"
          ]
        },
        {
          "output_type": "execute_result",
          "data": {
            "text/plain": [
              "(1, 2, 3, 4, 5, 6, 7, 8, 9)"
            ]
          },
          "metadata": {},
          "execution_count": 10
        }
      ]
    },
    {
      "cell_type": "code",
      "source": [
        "#5.Create a dictionary with 10 employee records like employee Id as key and name as value. Display the dictionary values.\n",
        "employee_dict = { 1: 'John', 2: 'Paul', 3: 'George', 4: 'Ringo', 5: 'Pete', 6: 'John', 7: 'Paul', 8: 'George', 9: 'Ringo', 10: 'Pete'}\n",
        "print(employee_dict)\n"
      ],
      "metadata": {
        "colab": {
          "base_uri": "https://localhost:8080/"
        },
        "id": "6lv0ILeikall",
        "outputId": "67f7ccc9-eac0-44a1-c5f9-be1745b572f8"
      },
      "execution_count": null,
      "outputs": [
        {
          "output_type": "stream",
          "name": "stdout",
          "text": [
            "{1: 'John', 2: 'Paul', 3: 'George', 4: 'Ringo', 5: 'Pete', 6: 'John', 7: 'Paul', 8: 'George', 9: 'Ringo', 10: 'Pete'}\n"
          ]
        }
      ]
    },
    {
      "cell_type": "code",
      "source": [
        "#6.Add 5 more records to the above dictionary and delete any two dictionary elements. Display dictionary values after each operation\n",
        "employee_dict = { 1: 'John', 2: 'Paul', 3: 'George', 4: 'Ringo', 5: 'Pete', 6: 'John', 7: 'Paul', 8: 'George', 9: 'Ringo', 10: 'Pete', 11: 'John', 12: 'Paul', 13: 'George', 14: 'Ringo', 15: 'Pete', 16: 'John', 17: 'Paul', 18: 'George', 19: 'Ringo', 20: 'Pete'}\n",
        "#delete two elements\n",
        "employee_dict.pop(1)\n",
        "print(employee_dict)"
      ],
      "metadata": {
        "colab": {
          "base_uri": "https://localhost:8080/"
        },
        "id": "VAVjnRdGl3zZ",
        "outputId": "8e7473ee-bd65-4ef4-bddd-79be88410d9c"
      },
      "execution_count": null,
      "outputs": [
        {
          "output_type": "stream",
          "name": "stdout",
          "text": [
            "{2: 'Paul', 3: 'George', 4: 'Ringo', 5: 'Pete', 6: 'John', 7: 'Paul', 8: 'George', 9: 'Ringo', 10: 'Pete', 11: 'John', 12: 'Paul', 13: 'George', 14: 'Ringo', 15: 'Pete', 16: 'John', 17: 'Paul', 18: 'George', 19: 'Ringo', 20: 'Pete'}\n"
          ]
        }
      ]
    },
    {
      "cell_type": "code",
      "source": [
        "#7.Perform following two operations on a Product dictionary for 5 elements with key as prod name and value as the price\n",
        "#a) length of the dictionary\n",
        "#b) display only the value of dictionary (instead of keys)\n",
        "#c) delete all the elements of a dictionary\n",
        "\n",
        "#create a dictionary with 5 elements\n",
        "product_dict={'pen':10,'pencil':20,'eraser':30,'pencil case':40,'pencil box':50}\n",
        "#print the length of the dictionary\n",
        "print(len(product_dict))\n",
        "#display only the value of dictionary (instead of keys)\n",
        "print(product_dict.values())\n",
        "#delete all the elements of a dictionary\n",
        "product_dict.clear()"
      ],
      "metadata": {
        "colab": {
          "base_uri": "https://localhost:8080/"
        },
        "id": "MKWVL4NrnPMN",
        "outputId": "3485d1c3-8af0-4248-f731-f22feff2b1bc"
      },
      "execution_count": null,
      "outputs": [
        {
          "output_type": "stream",
          "name": "stdout",
          "text": [
            "5\n",
            "dict_values([10, 20, 30, 40, 50])\n"
          ]
        }
      ]
    },
    {
      "cell_type": "code",
      "source": [
        "#8.Create a set with all the month names and display it in reverse order using an iterative method.\n",
        "month_set=set([\"January\",\"February\",\"March\",\"April\",\"May\",\"June\",\"July\",\"August\",\"September\",\"October\",\"November\",\"December\"])\n",
        "#display the set in reverse order using iterative method\n",
        "for i in range(len(month_set)-1,-1,-1):\n",
        "    print(month_set[i])"
      ],
      "metadata": {
        "colab": {
          "base_uri": "https://localhost:8080/",
          "height": 200
        },
        "id": "FVTDN9lBocOa",
        "outputId": "0257a3e1-43f2-4866-bb22-dcc018ef6c5b"
      },
      "execution_count": null,
      "outputs": [
        {
          "output_type": "error",
          "ename": "TypeError",
          "evalue": "ignored",
          "traceback": [
            "\u001b[0;31m---------------------------------------------------------------------------\u001b[0m",
            "\u001b[0;31mTypeError\u001b[0m                                 Traceback (most recent call last)",
            "\u001b[0;32m<ipython-input-15-4673fb937319>\u001b[0m in \u001b[0;36m<module>\u001b[0;34m()\u001b[0m\n\u001b[1;32m      3\u001b[0m \u001b[0;31m#display the set in reverse order using iterative method\u001b[0m\u001b[0;34m\u001b[0m\u001b[0;34m\u001b[0m\u001b[0;34m\u001b[0m\u001b[0m\n\u001b[1;32m      4\u001b[0m \u001b[0;32mfor\u001b[0m \u001b[0mi\u001b[0m \u001b[0;32min\u001b[0m \u001b[0mrange\u001b[0m\u001b[0;34m(\u001b[0m\u001b[0mlen\u001b[0m\u001b[0;34m(\u001b[0m\u001b[0mmonth_set\u001b[0m\u001b[0;34m)\u001b[0m\u001b[0;34m-\u001b[0m\u001b[0;36m1\u001b[0m\u001b[0;34m,\u001b[0m\u001b[0;34m-\u001b[0m\u001b[0;36m1\u001b[0m\u001b[0;34m,\u001b[0m\u001b[0;34m-\u001b[0m\u001b[0;36m1\u001b[0m\u001b[0;34m)\u001b[0m\u001b[0;34m:\u001b[0m\u001b[0;34m\u001b[0m\u001b[0;34m\u001b[0m\u001b[0m\n\u001b[0;32m----> 5\u001b[0;31m     \u001b[0mprint\u001b[0m\u001b[0;34m(\u001b[0m\u001b[0mmonth_set\u001b[0m\u001b[0;34m[\u001b[0m\u001b[0mi\u001b[0m\u001b[0;34m]\u001b[0m\u001b[0;34m)\u001b[0m\u001b[0;34m\u001b[0m\u001b[0;34m\u001b[0m\u001b[0m\n\u001b[0m",
            "\u001b[0;31mTypeError\u001b[0m: 'set' object is not subscriptable"
          ]
        }
      ]
    },
    {
      "cell_type": "code",
      "source": [
        "#9.Create any two sets with having some of the elements as common in both the sets to perform union, intersection, and subtraction operations with suitable examples.\n",
        "set1={1,2,3,4,5,6,7,8,9,10}\n",
        "set2={1,2,3,4,5,6,7,8,9,10,11,12,13,14,15,16,17,18,19,20}\n",
        "#union\n",
        "print(set1.union(set2))\n",
        "#intersection\n",
        "print(set1.intersection(set2))\n",
        "#subtraction\n",
        "print(set1.difference(set2))\n"
      ],
      "metadata": {
        "colab": {
          "base_uri": "https://localhost:8080/"
        },
        "id": "s9a324eIo53v",
        "outputId": "7d8272ea-6b0e-4195-e00a-c1afbdb95fdf"
      },
      "execution_count": null,
      "outputs": [
        {
          "output_type": "stream",
          "name": "stdout",
          "text": [
            "{1, 2, 3, 4, 5, 6, 7, 8, 9, 10, 11, 12, 13, 14, 15, 16, 17, 18, 19, 20}\n",
            "{1, 2, 3, 4, 5, 6, 7, 8, 9, 10}\n",
            "set()\n"
          ]
        }
      ]
    },
    {
      "cell_type": "code",
      "source": [
        "#10. Create a set of all the day names in a week. Remove the 2nd and 2nd last values. Display the set after each operation.\n",
        "day_set=set([\"Monday\",\"Tuesday\",\"Wednesday\",\"Thursday\",\"Friday\",\"Saturday\",\"Sunday\"])\n",
        "#remove 2nd value\n",
        "day_set=day_set.difference({\"Tuesday\"})\n",
        "print(day_set)\n",
        "#remove 2nd last value\n",
        "day_set=day_set.difference({\"Sunday\"})\n",
        "print(day_set)"
      ],
      "metadata": {
        "colab": {
          "base_uri": "https://localhost:8080/"
        },
        "id": "pkT8OnfErZ6U",
        "outputId": "92256e04-8e46-4b6a-e279-a556e87a810d"
      },
      "execution_count": null,
      "outputs": [
        {
          "output_type": "stream",
          "name": "stdout",
          "text": [
            "{'Wednesday', 'Saturday', 'Thursday', 'Monday', 'Sunday', 'Friday'}\n",
            "{'Wednesday', 'Saturday', 'Thursday', 'Monday', 'Friday'}\n"
          ]
        }
      ]
    },
    {
      "cell_type": "code",
      "source": [
        ""
      ],
      "metadata": {
        "id": "aEGj5m-Yr2Al"
      },
      "execution_count": null,
      "outputs": []
    }
  ]
}