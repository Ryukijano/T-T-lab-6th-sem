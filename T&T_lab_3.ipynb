{
  "nbformat": 4,
  "nbformat_minor": 0,
  "metadata": {
    "colab": {
      "name": "T&T_lab_3.ipynb",
      "provenance": [],
      "collapsed_sections": [],
      "authorship_tag": "ABX9TyMIEm+vrV5bCb7gcQax1Mr9",
      "include_colab_link": true
    },
    "kernelspec": {
      "name": "python3",
      "display_name": "Python 3"
    },
    "language_info": {
      "name": "python"
    }
  },
  "cells": [
    {
      "cell_type": "markdown",
      "metadata": {
        "id": "view-in-github",
        "colab_type": "text"
      },
      "source": [
        "<a href=\"https://colab.research.google.com/github/Ryukijano/T-T-lab-6th-sem/blob/main/T%26T_lab_3.ipynb\" target=\"_parent\"><img src=\"https://colab.research.google.com/assets/colab-badge.svg\" alt=\"Open In Colab\"/></a>"
      ]
    },
    {
      "cell_type": "markdown",
      "source": [
        "GYANATEET DUTTA 1930198 ECSE -3 T&T LAB-3 Report\n"
      ],
      "metadata": {
        "id": "3vOE-job906U"
      }
    },
    {
      "cell_type": "markdown",
      "source": [
        "3.1 Python program to display factorial of a number"
      ],
      "metadata": {
        "id": "DEIkxfnK-AjF"
      }
    },
    {
      "cell_type": "code",
      "source": [
        "number = int(input(\"Enter a number: \"))\n",
        "for i in range(1, number + 1):\n",
        "    factorial = 1\n",
        "    for j in range(1, i + 1):\n",
        "        factorial = factorial * j\n",
        "    print(i, \"! =\", factorial)"
      ],
      "metadata": {
        "colab": {
          "base_uri": "https://localhost:8080/"
        },
        "id": "yHNUdtKq5Kb2",
        "outputId": "ef51bdc3-22a9-4037-e7c2-ade33d9390c3"
      },
      "execution_count": null,
      "outputs": [
        {
          "output_type": "stream",
          "name": "stdout",
          "text": [
            "Enter a number: 7\n",
            "1 ! = 1\n",
            "2 ! = 2\n",
            "3 ! = 6\n",
            "4 ! = 24\n",
            "5 ! = 120\n",
            "6 ! = 720\n",
            "7 ! = 5040\n"
          ]
        }
      ]
    },
    {
      "cell_type": "markdown",
      "source": [
        "3.2 Python program to reverse a number"
      ],
      "metadata": {
        "id": "BjRnl5Vc-K8w"
      }
    },
    {
      "cell_type": "code",
      "source": [
        "n = input(\"Enter a number\")\n",
        "for i in range(len(n)):\n",
        "  reverse=n[::-1]\n",
        "print(reverse)\n"
      ],
      "metadata": {
        "colab": {
          "base_uri": "https://localhost:8080/"
        },
        "id": "PZOWBhaC6jrM",
        "outputId": "dbe6980d-fcc3-41eb-be72-7bc296c55428"
      },
      "execution_count": null,
      "outputs": [
        {
          "output_type": "stream",
          "name": "stdout",
          "text": [
            "Enter a number582\n",
            "285\n"
          ]
        }
      ]
    },
    {
      "cell_type": "markdown",
      "source": [
        "3.3 Python program to calculate sum of digits of a given number"
      ],
      "metadata": {
        "id": "Dl502ZQ7GQ4B"
      }
    },
    {
      "cell_type": "code",
      "source": [
        "n=int(input(\"Enter a number\"))\n",
        "\n",
        "sum=0\n",
        "\n",
        "for digit in str(n):\n",
        "    sum=sum+int(digit)\n",
        "\n",
        "print(\"Sum of digits\",sum)"
      ],
      "metadata": {
        "colab": {
          "base_uri": "https://localhost:8080/"
        },
        "id": "krePRbHtMY57",
        "outputId": "56b1593e-0ed0-4099-ae19-10d9b465ce69"
      },
      "execution_count": null,
      "outputs": [
        {
          "output_type": "stream",
          "name": "stdout",
          "text": [
            "Enter a number765\n",
            "Sum of digits 18\n"
          ]
        }
      ]
    },
    {
      "cell_type": "markdown",
      "source": [
        "3.4 Python program to find HCF of two numbers"
      ],
      "metadata": {
        "id": "munWqkZGOSnB"
      }
    },
    {
      "cell_type": "code",
      "source": [
        "x=int(input(\"Enter the value of x: \"))\n",
        "y=int(input(\"Enter the value of y: \"))\n",
        "if x>y:\n",
        "  smaller=y\n",
        "else:\n",
        "  smaller=x\n",
        "for i in range(1,smaller+1):\n",
        "  if((x%i==0) and (y%i==0)):\n",
        "    hcf=i\n",
        "print(\"The hcf is\",hcf)"
      ],
      "metadata": {
        "colab": {
          "base_uri": "https://localhost:8080/"
        },
        "id": "n5fXuOhtjBDW",
        "outputId": "6ee13d4a-7867-41c2-9314-b6271463018c"
      },
      "execution_count": null,
      "outputs": [
        {
          "output_type": "stream",
          "name": "stdout",
          "text": [
            "Enter the value of x: 129\n",
            "Enter the value of y: 39\n",
            "The hcf is 3\n"
          ]
        }
      ]
    },
    {
      "cell_type": "markdown",
      "source": [
        "3.5 Python program to check if a number is perfect or not."
      ],
      "metadata": {
        "id": "YjAi0y9QjBf-"
      }
    },
    {
      "cell_type": "code",
      "source": [
        "n=int(input(\"Enter a number : \"))\n",
        "sum=0\n",
        "for i in range(1, n):\n",
        "    if(n%i==0):\n",
        "        sum=sum+i\n",
        "if(sum==n):\n",
        "    print(\"The number is a perfect number\")\n",
        "else:\n",
        "    print(\"The number is not a perfect number\")\n",
        "    "
      ],
      "metadata": {
        "colab": {
          "base_uri": "https://localhost:8080/"
        },
        "id": "TsVb3DKtrI8h",
        "outputId": "fa4f69cb-db8d-420c-b93c-753cdabf3f75"
      },
      "execution_count": null,
      "outputs": [
        {
          "output_type": "stream",
          "name": "stdout",
          "text": [
            "Enter a number : 6\n",
            "The number is a perfect number\n"
          ]
        }
      ]
    },
    {
      "cell_type": "code",
      "source": [
        ""
      ],
      "metadata": {
        "id": "hGpAmNxDrJeH"
      },
      "execution_count": null,
      "outputs": []
    }
  ]
}