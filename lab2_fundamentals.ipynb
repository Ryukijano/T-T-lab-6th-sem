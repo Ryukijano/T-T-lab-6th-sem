{
  "nbformat": 4,
  "nbformat_minor": 0,
  "metadata": {
    "colab": {
      "name": "lab2 fundamentals.ipynb",
      "provenance": [],
      "collapsed_sections": [],
      "authorship_tag": "ABX9TyM0utvl6uvjtn8AvMTEIcx4",
      "include_colab_link": true
    },
    "kernelspec": {
      "name": "python3",
      "display_name": "Python 3"
    },
    "language_info": {
      "name": "python"
    }
  },
  "cells": [
    {
      "cell_type": "markdown",
      "metadata": {
        "id": "view-in-github",
        "colab_type": "text"
      },
      "source": [
        "<a href=\"https://colab.research.google.com/github/Ryukijano/T-T-lab-6th-sem/blob/main/lab2_fundamentals.ipynb\" target=\"_parent\"><img src=\"https://colab.research.google.com/assets/colab-badge.svg\" alt=\"Open In Colab\"/></a>"
      ]
    },
    {
      "cell_type": "markdown",
      "source": [
        "LAB 1\n",
        "GYANATEET DUTTA 1930198 \n",
        "ECS-2\n"
      ],
      "metadata": {
        "id": "KHZhE8Qk2Mln"
      }
    },
    {
      "cell_type": "code",
      "source": [
        "a=10\n",
        "b=30\n",
        "c=a+b\n",
        "print(c)"
      ],
      "metadata": {
        "colab": {
          "base_uri": "https://localhost:8080/"
        },
        "id": "u1YuGLdM2MUF",
        "outputId": "955d44aa-40be-415c-a40a-d5cd07dac2b3"
      },
      "execution_count": null,
      "outputs": [
        {
          "output_type": "stream",
          "name": "stdout",
          "text": [
            "40\n"
          ]
        }
      ]
    },
    {
      "cell_type": "code",
      "execution_count": null,
      "metadata": {
        "id": "SzPQTQMa2Ady",
        "colab": {
          "base_uri": "https://localhost:8080/"
        },
        "outputId": "76e62965-53fc-4c9a-f27d-5dfa92ed67e6"
      },
      "outputs": [
        {
          "output_type": "stream",
          "name": "stdout",
          "text": [
            "Enter first number3\n",
            "Enter second number4\n",
            "The sum is:\n",
            "7\n"
          ]
        }
      ],
      "source": [
        "a=int(input(\"Enter first number\"))\n",
        "b=int(input(\"Enter second number\"))\n",
        "c=a+b\n",
        "print(\"The sum is:\")\n",
        "print(c)\n"
      ]
    },
    {
      "cell_type": "markdown",
      "source": [
        "GYANATEET DUTTA\n",
        "1930198\n",
        "ECS-2\n",
        "\n",
        "\n"
      ],
      "metadata": {
        "id": "yPmLmUb0AlUM"
      }
    },
    {
      "cell_type": "code",
      "source": [
        "\n",
        "print(\"Enter the number of apples\")\n",
        "apples=int(input())\n",
        "print(\"Enter the number of oranges\")\n",
        "oranges=int(input())\n",
        "print(\"Enter the number of mangoes\")\n",
        "mangoes=int(input())\n",
        "print(\"Enter the number of pears\")\n",
        "pears=int(input())\n",
        "\n",
        "if apples>oranges and apples>mangoes and apples>pears:\n",
        "    print(\"The most number of fruits are apples\")\n",
        "elif oranges>apples and oranges>mangoes and oranges>pears:\n",
        "    print(\"The most number of fruits are oranges\")\n",
        "elif mangoes>apples and mangoes>oranges and mangoes>pears:\n",
        "    print(\"The most number of fruits are mangoes\")\n",
        "elif pears>apples and pears>oranges and pears>mangoes:\n",
        "    print(\"The most number of fruits are pears\")\n",
        "else:\n",
        "    print(\"There are no fruits\")"
      ],
      "metadata": {
        "id": "DELDkKuyKKAd",
        "colab": {
          "base_uri": "https://localhost:8080/"
        },
        "outputId": "fe547e8d-ced9-43d2-d4bf-c4ce2397a6f9"
      },
      "execution_count": null,
      "outputs": [
        {
          "output_type": "stream",
          "name": "stdout",
          "text": [
            "Enter the number of apples\n",
            "22\n",
            "Enter the number of oranges\n",
            "19\n",
            "Enter the number of mangoes\n",
            "33\n",
            "Enter the number of pears\n",
            "11\n",
            "The most number of fruits are mangoes\n"
          ]
        }
      ]
    },
    {
      "cell_type": "code",
      "source": [
        "print(\"Enter your password to login\")\n",
        "attempts=0\n",
        "\n",
        "\n",
        "while attempts<3:\n",
        "    password=input(\"Enter your password:\")\n",
        "\n",
        "    \n",
        "    if password==\"secret\":\n",
        "        print(\"Access granted\")\n",
        "        break\n",
        "    #\n",
        "    else:\n",
        "        print(\"Access denied\")\n",
        "        attempts+=1\n",
        "\n",
        "else:\n",
        "    print(\"You have exceeded the number of attempts\")"
      ],
      "metadata": {
        "colab": {
          "base_uri": "https://localhost:8080/"
        },
        "id": "GatIvF-0_w2Z",
        "outputId": "83e0b55d-aef8-4720-fccf-9543ff2b7843"
      },
      "execution_count": null,
      "outputs": [
        {
          "output_type": "stream",
          "name": "stdout",
          "text": [
            "Enter your password to login\n",
            "Enter your password:password\n",
            "Access denied\n",
            "Enter your password:password\n",
            "Access denied\n",
            "Enter your password:password\n",
            "Access denied\n",
            "You have exceeded the number of attempts\n"
          ]
        }
      ]
    },
    {
      "cell_type": "code",
      "source": [
        "\n",
        "i=1\n",
        "while i<=10:\n",
        "    j=1\n",
        "    while j<=10:\n",
        "        print(i*j,'=',i,'*',j)\n",
        "        j+=1\n",
        "    i+=1\n",
        "    print(\"\\n\")\n",
        "    "
      ],
      "metadata": {
        "colab": {
          "base_uri": "https://localhost:8080/"
        },
        "id": "uwRH8M1jB809",
        "outputId": "8e2723bd-4f36-49a3-d3bf-aa1ed096ce3c"
      },
      "execution_count": null,
      "outputs": [
        {
          "output_type": "stream",
          "name": "stdout",
          "text": [
            "1 = 1 * 1\n",
            "2 = 1 * 2\n",
            "3 = 1 * 3\n",
            "4 = 1 * 4\n",
            "5 = 1 * 5\n",
            "6 = 1 * 6\n",
            "7 = 1 * 7\n",
            "8 = 1 * 8\n",
            "9 = 1 * 9\n",
            "10 = 1 * 10\n",
            "\n",
            "\n",
            "2 = 2 * 1\n",
            "4 = 2 * 2\n",
            "6 = 2 * 3\n",
            "8 = 2 * 4\n",
            "10 = 2 * 5\n",
            "12 = 2 * 6\n",
            "14 = 2 * 7\n",
            "16 = 2 * 8\n",
            "18 = 2 * 9\n",
            "20 = 2 * 10\n",
            "\n",
            "\n",
            "3 = 3 * 1\n",
            "6 = 3 * 2\n",
            "9 = 3 * 3\n",
            "12 = 3 * 4\n",
            "15 = 3 * 5\n",
            "18 = 3 * 6\n",
            "21 = 3 * 7\n",
            "24 = 3 * 8\n",
            "27 = 3 * 9\n",
            "30 = 3 * 10\n",
            "\n",
            "\n",
            "4 = 4 * 1\n",
            "8 = 4 * 2\n",
            "12 = 4 * 3\n",
            "16 = 4 * 4\n",
            "20 = 4 * 5\n",
            "24 = 4 * 6\n",
            "28 = 4 * 7\n",
            "32 = 4 * 8\n",
            "36 = 4 * 9\n",
            "40 = 4 * 10\n",
            "\n",
            "\n",
            "5 = 5 * 1\n",
            "10 = 5 * 2\n",
            "15 = 5 * 3\n",
            "20 = 5 * 4\n",
            "25 = 5 * 5\n",
            "30 = 5 * 6\n",
            "35 = 5 * 7\n",
            "40 = 5 * 8\n",
            "45 = 5 * 9\n",
            "50 = 5 * 10\n",
            "\n",
            "\n",
            "6 = 6 * 1\n",
            "12 = 6 * 2\n",
            "18 = 6 * 3\n",
            "24 = 6 * 4\n",
            "30 = 6 * 5\n",
            "36 = 6 * 6\n",
            "42 = 6 * 7\n",
            "48 = 6 * 8\n",
            "54 = 6 * 9\n",
            "60 = 6 * 10\n",
            "\n",
            "\n",
            "7 = 7 * 1\n",
            "14 = 7 * 2\n",
            "21 = 7 * 3\n",
            "28 = 7 * 4\n",
            "35 = 7 * 5\n",
            "42 = 7 * 6\n",
            "49 = 7 * 7\n",
            "56 = 7 * 8\n",
            "63 = 7 * 9\n",
            "70 = 7 * 10\n",
            "\n",
            "\n",
            "8 = 8 * 1\n",
            "16 = 8 * 2\n",
            "24 = 8 * 3\n",
            "32 = 8 * 4\n",
            "40 = 8 * 5\n",
            "48 = 8 * 6\n",
            "56 = 8 * 7\n",
            "64 = 8 * 8\n",
            "72 = 8 * 9\n",
            "80 = 8 * 10\n",
            "\n",
            "\n",
            "9 = 9 * 1\n",
            "18 = 9 * 2\n",
            "27 = 9 * 3\n",
            "36 = 9 * 4\n",
            "45 = 9 * 5\n",
            "54 = 9 * 6\n",
            "63 = 9 * 7\n",
            "72 = 9 * 8\n",
            "81 = 9 * 9\n",
            "90 = 9 * 10\n",
            "\n",
            "\n",
            "10 = 10 * 1\n",
            "20 = 10 * 2\n",
            "30 = 10 * 3\n",
            "40 = 10 * 4\n",
            "50 = 10 * 5\n",
            "60 = 10 * 6\n",
            "70 = 10 * 7\n",
            "80 = 10 * 8\n",
            "90 = 10 * 9\n",
            "100 = 10 * 10\n",
            "\n",
            "\n"
          ]
        }
      ]
    },
    {
      "cell_type": "code",
      "source": [
        "print(\"Enter your age\")\n",
        "age = int(input())\n",
        "print(\"Are you graduated?\")\n",
        "isGraduated = input()\n",
        "print(\"Do you have a license?\")\n",
        "hasLicense = input()\n",
        "isGraduated = False\n",
        "hasLicense = True\n",
        "\n",
        "# Look if person is 18 years or older\n",
        "if age >= 18:\n",
        "    print(\"You're 18 or older. Welcome to adulthood!\")\n",
        "\n",
        "    if isGraduated==\"Yes\"or isGraduated==\"yes\":\n",
        "        print('Congratulations with your graduation!')\n",
        "    if hasLicense==\"Yes\"or hasLicense==\"yes\":\n",
        "        print('You have a license!')\n",
        "        print('Happy driving!')\n",
        "else:\n",
        "    \"You're not 18 yet. You can't drive yet.\"\n",
        "    "
      ],
      "metadata": {
        "id": "eHCXD4Q_EyTd",
        "colab": {
          "base_uri": "https://localhost:8080/"
        },
        "outputId": "bb239333-850b-4272-d33b-e32f94975182"
      },
      "execution_count": null,
      "outputs": [
        {
          "output_type": "stream",
          "name": "stdout",
          "text": [
            "Enter your age\n",
            "19\n",
            "Are you graduated?\n",
            "Yes\n",
            "Do you have a license?\n",
            "Yes\n",
            "You're 18 or older. Welcome to adulthood!\n"
          ]
        }
      ]
    },
    {
      "cell_type": "code",
      "source": [
        "print(\"Select your ride:\")\n",
        "print(\"1. Bike\")\n",
        "print(\"2. Car\")\n",
        "print(\"3. SUV\")\n",
        "\n",
        "choice = int( input() )\n",
        "\n",
        "if( choice == 1 ):\n",
        "  print( \"You have selected Bike\" )\n",
        "elif( choice == 2 ):\n",
        "  print( \"You have selected Car\" )\n",
        "elif( choice == 3 ):\n",
        "  print( \"You have selected SUV\" )\n",
        "else:\n",
        "  print(\"Wrong choice!\")"
      ],
      "metadata": {
        "colab": {
          "base_uri": "https://localhost:8080/"
        },
        "id": "vw4j6n3mmYt2",
        "outputId": "73bd10ee-8a98-4dcd-b29f-f4839aedfdfe"
      },
      "execution_count": null,
      "outputs": [
        {
          "output_type": "stream",
          "name": "stdout",
          "text": [
            "Select your ride:\n",
            "1. Bike\n",
            "2. Car\n",
            "3. SUV\n",
            "1\n",
            "You have selected Bike\n"
          ]
        }
      ]
    },
    {
      "cell_type": "code",
      "source": [
        ""
      ],
      "metadata": {
        "id": "u2HIBX98nmIe"
      },
      "execution_count": null,
      "outputs": []
    }
  ]
}