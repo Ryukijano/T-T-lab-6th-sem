{
  "nbformat": 4,
  "nbformat_minor": 0,
  "metadata": {
    "colab": {
      "name": "t&t final.ipynb",
      "provenance": [],
      "authorship_tag": "ABX9TyMSvEpGw/cl5HhcYYLl2twn",
      "include_colab_link": true
    },
    "kernelspec": {
      "name": "python3",
      "display_name": "Python 3"
    },
    "language_info": {
      "name": "python"
    }
  },
  "cells": [
    {
      "cell_type": "markdown",
      "metadata": {
        "id": "view-in-github",
        "colab_type": "text"
      },
      "source": [
        "<a href=\"https://colab.research.google.com/github/Ryukijano/T-T-lab-6th-sem/blob/main/t%26t_final.ipynb\" target=\"_parent\"><img src=\"https://colab.research.google.com/assets/colab-badge.svg\" alt=\"Open In Colab\"/></a>"
      ]
    },
    {
      "cell_type": "markdown",
      "source": [
        "###NAME- GYANATEET DUTTA\n",
        "###ROLL No - 1930198\n",
        "###SECTION- ECS2\n",
        "###T&T LAB 8"
      ],
      "metadata": {
        "id": "CDjL8vrN8Jv8"
      }
    },
    {
      "cell_type": "code",
      "execution_count": 1,
      "metadata": {
        "colab": {
          "base_uri": "https://localhost:8080/"
        },
        "id": "tUAArqY77xhT",
        "outputId": "b1629865-8cad-46ef-af14-d150ea5803c7"
      },
      "outputs": [
        {
          "output_type": "stream",
          "name": "stdout",
          "text": [
            "[[1. 1. 1. 1. 1.]\n",
            " [1. 0. 0. 0. 1.]\n",
            " [1. 0. 0. 0. 1.]\n",
            " [1. 0. 0. 0. 1.]\n",
            " [1. 1. 1. 1. 1.]]\n"
          ]
        }
      ],
      "source": [
        "#1. Write a program to create a 2D array with 1 on the border and a inside.\n",
        "import numpy as np\n",
        "a=np.ones((5,5))\n",
        "a[1:-1,1:-1]=0\n",
        "print(a)"
      ]
    },
    {
      "cell_type": "code",
      "source": [
        "#2. Write a program to create a 4X4 matrix with values 1,2,3,4 just below & above the diagonal, rest 0\n",
        "import numpy as np\n",
        "b=np.zeros((4,4))\n",
        "b=np.diag(np.arange(1,5))\n",
        "print(b)"
      ],
      "metadata": {
        "colab": {
          "base_uri": "https://localhost:8080/"
        },
        "id": "oelwFTnq_dQg",
        "outputId": "8035af88-eae8-4e06-9ceb-bcc881e0be9f"
      },
      "execution_count": 2,
      "outputs": [
        {
          "output_type": "stream",
          "name": "stdout",
          "text": [
            "[[1 0 0 0]\n",
            " [0 2 0 0]\n",
            " [0 0 3 0]\n",
            " [0 0 0 4]]\n"
          ]
        }
      ]
    },
    {
      "cell_type": "code",
      "source": [
        "#3. Write a program to extract all the contiguous 3X3 blocks from a random 10X10 matrix\n",
        "import numpy as np\n",
        "c=np.random.randint(1,10,(10,10))\n",
        "print(\"The random 10X10 matrix is:\")\n",
        "print (c)\n",
        "d=np.zeros((10,10))\n",
        "d=c[0:3,0:3]\n",
        "print(\"The first 3X3 block is:\")\n",
        "print (d)\n",
        "d=c[0:3,3:6]\n",
        "print(\"The second 3X3 block is:\")\n",
        "print(d)\n",
        "d=c[0:3,6:10]\n",
        "print(\"The third 3X3 block is:\")\n",
        "print(d)\n",
        "d=c[3:6,0:3]\n",
        "print(\"The fourth 3X3 block is:\")\n",
        "print(d)\n",
        "d=c[3:6,3:6]\n",
        "print(\"The fifth 3X3 block is:\")\n",
        "print(d)\n",
        "d=c[3:6,6:10]\n",
        "print(\"The sixth 3X3 block is:\")\n",
        "print(d)\n",
        "d=c[6:10,0:3]\n",
        "print(\"The seventh 3X3 block is:\")\n",
        "print(d)\n",
        "d=c[6:10,3:6]\n",
        "print(\"The eighth 3X3 block is:\")\n",
        "print(d)\n",
        "d=c[6:10,6:10]\n",
        "print(\"The ninth 3X3 block is:\")\n",
        "print(d)"
      ],
      "metadata": {
        "colab": {
          "base_uri": "https://localhost:8080/"
        },
        "id": "i2r2sVgf_wzR",
        "outputId": "83f53339-c978-4449-a552-010aa147b03a"
      },
      "execution_count": 3,
      "outputs": [
        {
          "output_type": "stream",
          "name": "stdout",
          "text": [
            "The random 10X10 matrix is:\n",
            "[[8 1 7 7 2 8 4 5 2 7]\n",
            " [3 2 6 1 8 6 5 1 1 3]\n",
            " [9 8 2 7 5 1 4 8 5 9]\n",
            " [1 5 2 2 7 6 4 4 5 4]\n",
            " [3 3 7 6 6 8 5 7 8 2]\n",
            " [4 3 4 3 1 9 1 9 4 9]\n",
            " [1 1 6 2 9 1 7 9 4 4]\n",
            " [5 9 2 3 8 8 7 7 6 4]\n",
            " [4 2 9 9 8 1 7 5 3 9]\n",
            " [4 7 4 3 5 6 9 6 2 4]]\n",
            "The first 3X3 block is:\n",
            "[[8 1 7]\n",
            " [3 2 6]\n",
            " [9 8 2]]\n",
            "The second 3X3 block is:\n",
            "[[7 2 8]\n",
            " [1 8 6]\n",
            " [7 5 1]]\n",
            "The third 3X3 block is:\n",
            "[[4 5 2 7]\n",
            " [5 1 1 3]\n",
            " [4 8 5 9]]\n",
            "The fourth 3X3 block is:\n",
            "[[1 5 2]\n",
            " [3 3 7]\n",
            " [4 3 4]]\n",
            "The fifth 3X3 block is:\n",
            "[[2 7 6]\n",
            " [6 6 8]\n",
            " [3 1 9]]\n",
            "The sixth 3X3 block is:\n",
            "[[4 4 5 4]\n",
            " [5 7 8 2]\n",
            " [1 9 4 9]]\n",
            "The seventh 3X3 block is:\n",
            "[[1 1 6]\n",
            " [5 9 2]\n",
            " [4 2 9]\n",
            " [4 7 4]]\n",
            "The eighth 3X3 block is:\n",
            "[[2 9 1]\n",
            " [3 8 8]\n",
            " [9 8 1]\n",
            " [3 5 6]]\n",
            "The ninth 3X3 block is:\n",
            "[[7 9 4 4]\n",
            " [7 7 6 4]\n",
            " [7 5 3 9]\n",
            " [9 6 2 4]]\n"
          ]
        }
      ]
    },
    {
      "cell_type": "code",
      "source": [
        "#4. A magic square is a matrix all of whose row sums, column sums, and  the sums of the two diagonals are the same.(One diagonal of a matrix goes from the top left to the bottom right, and the other diagonal goes from the top right to the bottom left.) Show by direct computation that if the matrix A is given by\n",
        "#A=np.array([[17,24,1,8,15],[23,5,7,14,16],[4,6,13,20,22],[10,12,19,21,3],[11,18,25,2,9]])\n",
        "#The matrix A has 5-rows sums (one for each row) , 5-column sums (one for each column), and two diagonal sums. These 12 sums should all be exactly the same, and you could verify that they are the same by printing them and \"seeing\" that they are all the same.It is easy to miss small differences among so many numbers,though. Instead, verify that A is a magic square by constructing the 5 column sums and computing the maximum and minimum values of the column sums. Do the same for 5-row sums, and compute the two diagonal sums. Check that these six values are the same. If the maximum and minimum values are the same, the flyswatter principle says that all values are the same. If the maximum and minimum values are different, the flyswatter principle says that the matrix is not a magic square.\n",
        "import numpy as np\n",
        "A=np.array([[17,24,1,8,15],[23,5,7,14,16],[4,6,13,20,22],[10,12,19,21,3],[11,18,25,2,9]])\n",
        "print(\"The sum of the rows of A is:\")\n",
        "print(A.sum(axis=1))\n",
        "print(\"The sum of the columns of A is:\")\n",
        "print(A.sum(axis=0))\n",
        "print(\"The sum of the two diagonals of A is:\")\n",
        "print(A.diagonal())\n",
        "print(\"The maximum value of the column sums of A is:\")\n",
        "print(A.sum(axis=0).max())\n",
        "print(\"The minimum value of the column sums of A is:\")\n",
        "print(A.sum(axis=0).min())\n",
        "print(\"The maximum value of the row sums of A is:\")\n",
        "print(A.sum(axis=1).max())\n",
        "print(\"The minimum value of the row sums of A is:\")\n",
        "print(A.sum(axis=1).min())\n",
        "if A.sum(axis=0).max()==A.sum(axis=0).min():\n",
        "    print(\"The flyswatter principle says that all values are the same.\")\n",
        "else:\n",
        "    print(\"The flyswatter principle says that the matrix is not a magic square.\")\n"
      ],
      "metadata": {
        "colab": {
          "base_uri": "https://localhost:8080/"
        },
        "id": "U0oIIz-DBA0m",
        "outputId": "1b61fc46-9aec-4496-a3e5-bdf1736e26c5"
      },
      "execution_count": 4,
      "outputs": [
        {
          "output_type": "stream",
          "name": "stdout",
          "text": [
            "The sum of the rows of A is:\n",
            "[65 65 65 65 65]\n",
            "The sum of the columns of A is:\n",
            "[65 65 65 65 65]\n",
            "The sum of the two diagonals of A is:\n",
            "[17  5 13 21  9]\n",
            "The maximum value of the column sums of A is:\n",
            "65\n",
            "The minimum value of the column sums of A is:\n",
            "65\n",
            "The maximum value of the row sums of A is:\n",
            "65\n",
            "The minimum value of the row sums of A is:\n",
            "65\n",
            "The flyswatter principle says that all values are the same.\n"
          ]
        }
      ]
    },
    {
      "cell_type": "code",
      "source": [
        ""
      ],
      "metadata": {
        "id": "fIlQqOKYB2te"
      },
      "execution_count": null,
      "outputs": []
    }
  ]
}