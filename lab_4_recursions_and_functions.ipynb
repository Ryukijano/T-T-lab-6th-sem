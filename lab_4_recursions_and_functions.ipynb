{
  "nbformat": 4,
  "nbformat_minor": 0,
  "metadata": {
    "colab": {
      "name": "lab_4_recursions_and_functions.ipynb",
      "provenance": [],
      "authorship_tag": "ABX9TyP9ckyULByyScRcrNjXlfL6",
      "include_colab_link": true
    },
    "kernelspec": {
      "name": "python3",
      "display_name": "Python 3"
    },
    "language_info": {
      "name": "python"
    }
  },
  "cells": [
    {
      "cell_type": "markdown",
      "metadata": {
        "id": "view-in-github",
        "colab_type": "text"
      },
      "source": [
        "<a href=\"https://colab.research.google.com/github/Ryukijano/T-T-lab-6th-sem/blob/main/lab_4_recursions_and_functions.ipynb\" target=\"_parent\"><img src=\"https://colab.research.google.com/assets/colab-badge.svg\" alt=\"Open In Colab\"/></a>"
      ]
    },
    {
      "cell_type": "markdown",
      "source": [
        "4.1 Printing the first n numbers of a Fibonnaci Sequence using recursion"
      ],
      "metadata": {
        "id": "PjN0YKpAAPwn"
      }
    },
    {
      "cell_type": "code",
      "source": [
        "def fibonacci(n):\n",
        "    if n<=1:\n",
        "        return n\n",
        "    else:\n",
        "        return(fibonacci(n-1)+fibonacci(n-2))\n",
        "nterms=int(input(\"Enter the number of terms:\"))\n",
        "if nterms <=0:\n",
        "    print(\"Please enter a positive integer\")\n",
        "else:\n",
        "    print(\"The Fibonacci sequence is:\")\n",
        "    for i in range(nterms):\n",
        "        print(fibonacci(i))"
      ],
      "metadata": {
        "colab": {
          "base_uri": "https://localhost:8080/"
        },
        "id": "zeikNbIQBda-",
        "outputId": "5b059d69-fb00-49ee-98e1-d530babb7ca3"
      },
      "execution_count": 28,
      "outputs": [
        {
          "output_type": "stream",
          "name": "stdout",
          "text": [
            "Enter the number of terms:4\n",
            "The Fibonacci sequence is:\n",
            "0\n",
            "1\n",
            "1\n",
            "2\n"
          ]
        }
      ]
    },
    {
      "cell_type": "markdown",
      "source": [
        "4.2 Evaluating the equation y=x^n where n is a non-negative integer."
      ],
      "metadata": {
        "id": "QIkssPmqFoco"
      }
    },
    {
      "cell_type": "code",
      "source": [
        "def evaluation(x,n):\n",
        "    if n==0:\n",
        "        return 1\n",
        "    else:\n",
        "        return x*evaluation(x,n-1)\n",
        "x=abs(int(input(\"Enter a positive value of x:\")))\n",
        "n=int(input(\"Enter the value of n:\"))\n",
        "if n<0:\n",
        "    print(\"Please enter a non negative integer\")\n",
        "else:\n",
        "    print(\"The value of y is:\",evaluation(x,n))"
      ],
      "metadata": {
        "colab": {
          "base_uri": "https://localhost:8080/"
        },
        "id": "uHWhOG-GI-y0",
        "outputId": "eb83d746-855c-4bff-87e1-224e94c4f420"
      },
      "execution_count": 29,
      "outputs": [
        {
          "output_type": "stream",
          "name": "stdout",
          "text": [
            "Enter a positive value of x:36\n",
            "Enter the value of n:13\n",
            "The value of y is: 170581728179578208256\n"
          ]
        }
      ]
    },
    {
      "cell_type": "markdown",
      "source": [
        "4.3 Generating a reversing pyramid of numbers for a given number."
      ],
      "metadata": {
        "id": "peq9eoQdKUZ3"
      }
    },
    {
      "cell_type": "code",
      "source": [
        "def reverse_pyramid(n):\n",
        "    for i in range(n,0,-1):\n",
        "        for j in range(i):\n",
        "            print(i,end=\" \")\n",
        "        print()\n",
        "\n",
        "n=abs(int(input(\"Enter the number of rows:\")))\n",
        "print(reverse_pyramid(n))\n"
      ],
      "metadata": {
        "colab": {
          "base_uri": "https://localhost:8080/"
        },
        "id": "1RPVx039MY8a",
        "outputId": "df340e26-0a78-4f64-ab36-a232831de7ce"
      },
      "execution_count": 30,
      "outputs": [
        {
          "output_type": "stream",
          "name": "stdout",
          "text": [
            "Enter the number of rows:3\n",
            "3 3 3 \n",
            "2 2 \n",
            "1 \n",
            "None\n"
          ]
        }
      ]
    },
    {
      "cell_type": "markdown",
      "source": [
        "4.4 Converting a number with base b into equivalent decimal number. Number with base b and b are input."
      ],
      "metadata": {
        "id": "VboaUKusMZj2"
      }
    },
    {
      "cell_type": "code",
      "source": [
        "def convert(n,b):\n",
        "    if n == 0:\n",
        "        return 0\n",
        "    else:\n",
        "        return n%b + 10*convert(n//b,b)\n",
        "n=int(input(\"Enter a number: \"))\n",
        "b=int(input(\"Enter the base: \"))\n",
        "print(convert(n,b))\n"
      ],
      "metadata": {
        "colab": {
          "base_uri": "https://localhost:8080/"
        },
        "id": "Lx_wXufQP0uo",
        "outputId": "492ac6ae-b414-4578-84bc-433583c5d3eb"
      },
      "execution_count": 40,
      "outputs": [
        {
          "output_type": "stream",
          "name": "stdout",
          "text": [
            "Enter a number: 100\n",
            "Enter the base: 10\n",
            "100\n"
          ]
        }
      ]
    },
    {
      "cell_type": "markdown",
      "source": [
        "4.5 Print the odd and even numbers seperately within a given range. The range is input through user."
      ],
      "metadata": {
        "id": "QiBZ14gbQf6x"
      }
    },
    {
      "cell_type": "code",
      "source": [
        "def print_odd_even(n):\n",
        "    for i in range(1,n+1):\n",
        "        if i%2==0:\n",
        "            print(i,\"even\")\n",
        "        else:\n",
        "            print(i,\"odd\")\n",
        "n=int(input(\"Enter the range:\"))\n",
        "print_odd_even(n)\n",
        "\n"
      ],
      "metadata": {
        "colab": {
          "base_uri": "https://localhost:8080/"
        },
        "id": "a7PIbjDsVEMh",
        "outputId": "ca412b5d-b24d-4fce-8239-69ba75544230"
      },
      "execution_count": 41,
      "outputs": [
        {
          "output_type": "stream",
          "name": "stdout",
          "text": [
            "Enter the range:10\n",
            "1 odd\n",
            "2 even\n",
            "3 odd\n",
            "4 even\n",
            "5 odd\n",
            "6 even\n",
            "7 odd\n",
            "8 even\n",
            "9 odd\n",
            "10 even\n"
          ]
        }
      ]
    },
    {
      "cell_type": "code",
      "source": [
        ""
      ],
      "metadata": {
        "id": "CnxiB16-VUow"
      },
      "execution_count": null,
      "outputs": []
    }
  ]
}