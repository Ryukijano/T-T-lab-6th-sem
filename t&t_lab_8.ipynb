{
  "nbformat": 4,
  "nbformat_minor": 0,
  "metadata": {
    "colab": {
      "name": "t&t_lab_8.ipynb",
      "provenance": [],
      "collapsed_sections": [],
      "authorship_tag": "ABX9TyMcZXmgwH87xqJzTox0We4v",
      "include_colab_link": true
    },
    "kernelspec": {
      "name": "python3",
      "display_name": "Python 3"
    },
    "language_info": {
      "name": "python"
    },
    "accelerator": "GPU"
  },
  "cells": [
    {
      "cell_type": "markdown",
      "metadata": {
        "id": "view-in-github",
        "colab_type": "text"
      },
      "source": [
        "<a href=\"https://colab.research.google.com/github/Ryukijano/T-T-lab-6th-sem/blob/main/t%26t_lab_8.ipynb\" target=\"_parent\"><img src=\"https://colab.research.google.com/assets/colab-badge.svg\" alt=\"Open In Colab\"/></a>"
      ]
    },
    {
      "cell_type": "code",
      "execution_count": null,
      "metadata": {
        "colab": {
          "base_uri": "https://localhost:8080/"
        },
        "id": "Z2sq6BVIfP_i",
        "outputId": "b1feb2ed-5391-4aff-89c8-7850fc6b7d99"
      },
      "outputs": [
        {
          "output_type": "stream",
          "name": "stdout",
          "text": [
            "2+3j\n",
            "(5, 0, 10)\n"
          ]
        }
      ],
      "source": [
        "class ComplexNumber:\n",
        "    def __init__(self, r=0, i=0):\n",
        "        self.real = r\n",
        "        self.imag = i\n",
        "\n",
        "    def get_data(self):\n",
        "        print(f'{self.real}+{self.imag}j')\n",
        "\n",
        "\n",
        "num1 = ComplexNumber(2, 3)\n",
        "\n",
        "\n",
        "num1.get_data()\n",
        "\n",
        "num2 = ComplexNumber(5)\n",
        "num2.attr = 10\n",
        "\n",
        "\n",
        "print((num2.real, num2.imag, num2.attr))\n"
      ]
    },
    {
      "cell_type": "code",
      "source": [
        "class distances:\n",
        "    def __init__(self, distance1, distance2):\n",
        "        self.distance1 = distance1\n",
        "        self.distance2 = distance2\n",
        "        \n",
        "    def add_distances(self, distance1, distance2):\n",
        "        return self.distance1+self.distance2\n",
        "    \n",
        "        \n",
        "first=distances(10,20)\n",
        "\n",
        "first.add_distances(10,20)\n",
        "\n",
        "second=distances(30,40)\n",
        "\n",
        "second.add_distances(30,40)\n",
        "\n",
        "print(first.add_distances(10,20))\n",
        "print(second.add_distances(30,40))\n",
        "\n",
        "   \n",
        "    \n",
        "\n",
        "   "
      ],
      "metadata": {
        "colab": {
          "base_uri": "https://localhost:8080/"
        },
        "id": "_JCiJy_bfVHs",
        "outputId": "319d01c0-8c25-4b99-bfd7-40f6c95466cc"
      },
      "execution_count": null,
      "outputs": [
        {
          "output_type": "stream",
          "name": "stdout",
          "text": [
            "30\n",
            "70\n"
          ]
        }
      ]
    },
    {
      "cell_type": "code",
      "source": [
        ""
      ],
      "metadata": {
        "id": "ug-uvKeehcga"
      },
      "execution_count": null,
      "outputs": []
    }
  ]
}